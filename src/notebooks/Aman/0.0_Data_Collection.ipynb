{
 "cells": [
  {
   "cell_type": "code",
   "execution_count": 1,
   "id": "cce55359-03c2-49d2-bbdf-4acc644a202d",
   "metadata": {
    "tags": []
   },
   "outputs": [],
   "source": [
    "import numpy as np\n",
    "import pandas as pd\n",
    "\n",
    "from tqdm import tqdm_notebook as tqdm\n",
    "%load_ext autoreload\n",
    "%autoreload 2\n",
    "\n",
    "import os\n",
    "os.environ['TF_CPP_MIN_LOG_LEVEL'] = '3' \n",
    "import tensorflow as tf"
   ]
  },
  {
   "cell_type": "code",
   "execution_count": 2,
   "id": "a91b829b-e531-4bf0-a4a4-f8a616c8f850",
   "metadata": {
    "tags": []
   },
   "outputs": [],
   "source": [
    "import tensorflow as tf\n",
    "import tensorflow_datasets as tfds"
   ]
  },
  {
   "cell_type": "code",
   "execution_count": 3,
   "id": "84f94cf2-4a5d-466f-a9bf-536abed924bc",
   "metadata": {},
   "outputs": [],
   "source": [
    "builder = tfds.builder('scientific_papers/arxiv')"
   ]
  },
  {
   "cell_type": "markdown",
   "id": "fe8112d7",
   "metadata": {
    "tags": []
   },
   "source": [
    "## Download Arxiv dataset"
   ]
  },
  {
   "cell_type": "code",
   "execution_count": 4,
   "id": "30f02bd9",
   "metadata": {},
   "outputs": [],
   "source": [
    "ds, info = tfds.load('scientific_papers/arxiv', data_dir=\"../../data/\", shuffle_files=True, with_info = True)"
   ]
  },
  {
   "cell_type": "code",
   "execution_count": 5,
   "id": "5d864e15",
   "metadata": {},
   "outputs": [],
   "source": [
    "train_dataset, test_dataset = ds['train'], ds['test']"
   ]
  },
  {
   "cell_type": "code",
   "execution_count": 6,
   "id": "f072a611",
   "metadata": {
    "scrolled": true
   },
   "outputs": [
    {
     "data": {
      "text/plain": [
       "{'abstract': TensorSpec(shape=(), dtype=tf.string, name=None),\n",
       " 'article': TensorSpec(shape=(), dtype=tf.string, name=None),\n",
       " 'section_names': TensorSpec(shape=(), dtype=tf.string, name=None)}"
      ]
     },
     "execution_count": 6,
     "metadata": {},
     "output_type": "execute_result"
    }
   ],
   "source": [
    "train_dataset.element_spec"
   ]
  },
  {
   "cell_type": "code",
   "execution_count": 7,
   "id": "c659899a",
   "metadata": {
    "scrolled": true
   },
   "outputs": [],
   "source": [
    "# Sanity Check\n",
    "assert isinstance(train_dataset, tf.data.Dataset)\n",
    "assert isinstance(test_dataset, tf.data.Dataset)"
   ]
  },
  {
   "cell_type": "markdown",
   "id": "75a17576",
   "metadata": {},
   "source": [
    "## Create a subset of 10k for text visualization"
   ]
  },
  {
   "cell_type": "code",
   "execution_count": 8,
   "id": "b0eb912e",
   "metadata": {},
   "outputs": [],
   "source": [
    "BUFFER_SIZE = 10000\n",
    "BATCH_SIZE = 64"
   ]
  },
  {
   "cell_type": "code",
   "execution_count": 9,
   "id": "7442f257",
   "metadata": {
    "scrolled": true
   },
   "outputs": [],
   "source": [
    "df = tfds.as_dataframe(train_dataset.shuffle(BUFFER_SIZE).take(BUFFER_SIZE), info)"
   ]
  },
  {
   "cell_type": "code",
   "execution_count": 10,
   "id": "1f61820b",
   "metadata": {},
   "outputs": [
    {
     "data": {
      "text/html": [
       "<div>\n",
       "<style scoped>\n",
       "    .dataframe tbody tr th:only-of-type {\n",
       "        vertical-align: middle;\n",
       "    }\n",
       "\n",
       "    .dataframe tbody tr th {\n",
       "        vertical-align: top;\n",
       "    }\n",
       "\n",
       "    .dataframe thead th {\n",
       "        text-align: right;\n",
       "    }\n",
       "</style>\n",
       "<table border=\"1\" class=\"dataframe\">\n",
       "  <thead>\n",
       "    <tr style=\"text-align: right;\">\n",
       "      <th></th>\n",
       "      <th>abstract</th>\n",
       "      <th>article</th>\n",
       "      <th>section_names</th>\n",
       "    </tr>\n",
       "  </thead>\n",
       "  <tbody>\n",
       "    <tr>\n",
       "      <th>0</th>\n",
       "      <td>b' we use the integral - field spectrograph sa...</td>\n",
       "      <td>b'according to the current galaxy formation pa...</td>\n",
       "      <td>b'introduction\\nsummary and conclusion\\nacknow...</td>\n",
       "    </tr>\n",
       "    <tr>\n",
       "      <th>1</th>\n",
       "      <td>b\" we report on an effort to study the connect...</td>\n",
       "      <td>b\"the interaction between high power plasma je...</td>\n",
       "      <td>b'introduction\\ncomputational methods\\nmodel d...</td>\n",
       "    </tr>\n",
       "  </tbody>\n",
       "</table>\n",
       "</div>"
      ],
      "text/plain": [
       "                                            abstract  \\\n",
       "0  b' we use the integral - field spectrograph sa...   \n",
       "1  b\" we report on an effort to study the connect...   \n",
       "\n",
       "                                             article  \\\n",
       "0  b'according to the current galaxy formation pa...   \n",
       "1  b\"the interaction between high power plasma je...   \n",
       "\n",
       "                                       section_names  \n",
       "0  b'introduction\\nsummary and conclusion\\nacknow...  \n",
       "1  b'introduction\\ncomputational methods\\nmodel d...  "
      ]
     },
     "execution_count": 10,
     "metadata": {},
     "output_type": "execute_result"
    }
   ],
   "source": [
    "df.head(2)"
   ]
  },
  {
   "cell_type": "code",
   "execution_count": 11,
   "id": "d0d8c1de",
   "metadata": {},
   "outputs": [
    {
     "data": {
      "text/plain": [
       "abstract         b' we use the integral - field spectrograph sa...\n",
       "article          b'according to the current galaxy formation pa...\n",
       "section_names    b'introduction\\nsummary and conclusion\\nacknow...\n",
       "Name: 0, dtype: object"
      ]
     },
     "execution_count": 11,
     "metadata": {},
     "output_type": "execute_result"
    }
   ],
   "source": [
    "df.loc[0]"
   ]
  },
  {
   "cell_type": "markdown",
   "id": "e7806f71",
   "metadata": {},
   "source": [
    "## Save sample into CSV"
   ]
  },
  {
   "cell_type": "code",
   "execution_count": 12,
   "id": "ab4652e8",
   "metadata": {},
   "outputs": [],
   "source": [
    "df.to_csv(\"../../data/sample_10k_data_for_visualization.csv\", index = False)"
   ]
  },
  {
   "cell_type": "code",
   "execution_count": null,
   "id": "dcf7659f",
   "metadata": {},
   "outputs": [],
   "source": []
  }
 ],
 "metadata": {
  "kernelspec": {
   "display_name": "Python 3 (ipykernel)",
   "language": "python",
   "name": "python3"
  },
  "language_info": {
   "codemirror_mode": {
    "name": "ipython",
    "version": 3
   },
   "file_extension": ".py",
   "mimetype": "text/x-python",
   "name": "python",
   "nbconvert_exporter": "python",
   "pygments_lexer": "ipython3",
   "version": "3.9.16"
  }
 },
 "nbformat": 4,
 "nbformat_minor": 5
}
